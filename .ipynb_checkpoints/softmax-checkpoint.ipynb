{
 "cells": [
  {
   "cell_type": "markdown",
   "metadata": {},
   "source": [
    "# Softmax exercise\n",
    "\n",
    "*Complete and hand in this completed worksheet (including its outputs and any supporting code outside of the worksheet) with your assignment submission. For more details see the [assignments page](http://vision.stanford.edu/teaching/cs231n/assignments.html) on the course website.*\n",
    "\n",
    "This exercise is analogous to the SVM exercise. You will:\n",
    "\n",
    "- implement a fully-vectorized **loss function** for the Softmax classifier\n",
    "- implement the fully-vectorized expression for its **analytic gradient**\n",
    "- **check your implementation** with numerical gradient\n",
    "- use a validation set to **tune the learning rate and regularization** strength\n",
    "- **optimize** the loss function with **SGD**\n",
    "- **visualize** the final learned weights\n"
   ]
  },
  {
   "cell_type": "code",
   "execution_count": 1,
   "metadata": {
    "collapsed": false
   },
   "outputs": [],
   "source": [
    "import random\n",
    "import numpy as np\n",
    "from cs231n.data_utils import load_CIFAR10\n",
    "import matplotlib.pyplot as plt\n",
    "%matplotlib inline\n",
    "plt.rcParams['figure.figsize'] = (10.0, 8.0) # set default size of plots\n",
    "plt.rcParams['image.interpolation'] = 'nearest'\n",
    "plt.rcParams['image.cmap'] = 'gray'\n",
    "\n",
    "# for auto-reloading extenrnal modules\n",
    "# see http://stackoverflow.com/questions/1907993/autoreload-of-modules-in-ipython\n",
    "%load_ext autoreload\n",
    "%autoreload 2"
   ]
  },
  {
   "cell_type": "code",
   "execution_count": 2,
   "metadata": {
    "collapsed": false
   },
   "outputs": [
    {
     "name": "stdout",
     "output_type": "stream",
     "text": [
      "Train data shape:  (49000L, 3073L)\n",
      "Train labels shape:  (49000L,)\n",
      "Validation data shape:  (1000L, 3073L)\n",
      "Validation labels shape:  (1000L,)\n",
      "Test data shape:  (1000L, 3073L)\n",
      "Test labels shape:  (1000L,)\n",
      "dev data shape:  (500L, 3073L)\n",
      "dev labels shape:  (500L,)\n"
     ]
    }
   ],
   "source": [
    "def get_CIFAR10_data(num_training=49000, num_validation=1000, num_test=1000, num_dev=500):\n",
    "  \"\"\"\n",
    "  Load the CIFAR-10 dataset from disk and perform preprocessing to prepare\n",
    "  it for the linear classifier. These are the same steps as we used for the\n",
    "  SVM, but condensed to a single function.  \n",
    "  \"\"\"\n",
    "  # Load the raw CIFAR-10 data\n",
    "  cifar10_dir = 'cs231n/datasets/cifar-10-batches-py'\n",
    "  X_train, y_train, X_test, y_test = load_CIFAR10(cifar10_dir)\n",
    "  \n",
    "  # subsample the data\n",
    "  mask = range(num_training, num_training + num_validation)\n",
    "  X_val = X_train[mask]\n",
    "  y_val = y_train[mask]\n",
    "  mask = range(num_training)\n",
    "  X_train = X_train[mask]\n",
    "  y_train = y_train[mask]\n",
    "  mask = range(num_test)\n",
    "  X_test = X_test[mask]\n",
    "  y_test = y_test[mask]\n",
    "  mask = np.random.choice(num_training, num_dev, replace=False)\n",
    "  X_dev = X_train[mask]\n",
    "  y_dev = y_train[mask]\n",
    "  \n",
    "  # Preprocessing: reshape the image data into rows\n",
    "  X_train = np.reshape(X_train, (X_train.shape[0], -1))\n",
    "  X_val = np.reshape(X_val, (X_val.shape[0], -1))\n",
    "  X_test = np.reshape(X_test, (X_test.shape[0], -1))\n",
    "  X_dev = np.reshape(X_dev, (X_dev.shape[0], -1))\n",
    "  \n",
    "  # Normalize the data: subtract the mean image\n",
    "  mean_image = np.mean(X_train, axis = 0)\n",
    "  X_train -= mean_image\n",
    "  X_val -= mean_image\n",
    "  X_test -= mean_image\n",
    "  X_dev -= mean_image\n",
    "  \n",
    "  # add bias dimension and transform into columns\n",
    "  X_train = np.hstack([X_train, np.ones((X_train.shape[0], 1))])\n",
    "  X_val = np.hstack([X_val, np.ones((X_val.shape[0], 1))])\n",
    "  X_test = np.hstack([X_test, np.ones((X_test.shape[0], 1))])\n",
    "  X_dev = np.hstack([X_dev, np.ones((X_dev.shape[0], 1))])\n",
    "  \n",
    "  return X_train, y_train, X_val, y_val, X_test, y_test, X_dev, y_dev\n",
    "\n",
    "\n",
    "# Invoke the above function to get our data.\n",
    "X_train, y_train, X_val, y_val, X_test, y_test, X_dev, y_dev = get_CIFAR10_data()\n",
    "print 'Train data shape: ', X_train.shape\n",
    "print 'Train labels shape: ', y_train.shape\n",
    "print 'Validation data shape: ', X_val.shape\n",
    "print 'Validation labels shape: ', y_val.shape\n",
    "print 'Test data shape: ', X_test.shape\n",
    "print 'Test labels shape: ', y_test.shape\n",
    "print 'dev data shape: ', X_dev.shape\n",
    "print 'dev labels shape: ', y_dev.shape"
   ]
  },
  {
   "cell_type": "markdown",
   "metadata": {},
   "source": [
    "## Softmax Classifier\n",
    "\n",
    "Your code for this section will all be written inside **cs231n/classifiers/softmax.py**. \n"
   ]
  },
  {
   "cell_type": "code",
   "execution_count": 3,
   "metadata": {
    "collapsed": false
   },
   "outputs": [
    {
     "name": "stdout",
     "output_type": "stream",
     "text": [
      "loss: 2.335264\n",
      "sanity check: 2.302585\n"
     ]
    }
   ],
   "source": [
    "# First implement the naive softmax loss function with nested loops.\n",
    "# Open the file cs231n/classifiers/softmax.py and implement the\n",
    "# softmax_loss_naive function.\n",
    "\n",
    "from cs231n.classifiers.softmax import softmax_loss_naive\n",
    "import time\n",
    "\n",
    "# Generate a random softmax weight matrix and use it to compute the loss.\n",
    "W = np.random.randn(3073, 10) * 0.0001\n",
    "loss, grad = softmax_loss_naive(W, X_dev, y_dev, 0.0)\n",
    "\n",
    "# As a rough sanity check, our loss should be something close to -log(0.1).\n",
    "print 'loss: %f' % loss\n",
    "print 'sanity check: %f' % (-np.log(0.1))"
   ]
  },
  {
   "cell_type": "markdown",
   "metadata": {},
   "source": [
    "## Inline Question 1:\n",
    "Why do we expect our loss to be close to -log(0.1)? Explain briefly.**\n",
    "\n",
    "**Your answer:** *Fill this in*\n"
   ]
  },
  {
   "cell_type": "code",
   "execution_count": 4,
   "metadata": {
    "collapsed": false
   },
   "outputs": [
    {
     "name": "stdout",
     "output_type": "stream",
     "text": [
      "numerical: 0.829986 analytic: 0.829986, relative error: 3.673003e-08\n",
      "numerical: 1.530605 analytic: 1.530605, relative error: 1.766087e-08\n",
      "numerical: 1.247587 analytic: 1.247587, relative error: 1.341945e-08\n",
      "numerical: -1.271070 analytic: -1.271070, relative error: 3.927639e-09\n",
      "numerical: -1.097717 analytic: -1.097717, relative error: 5.191676e-08\n",
      "numerical: 0.732635 analytic: 0.732635, relative error: 2.140324e-08\n",
      "numerical: -1.731251 analytic: -1.731251, relative error: 6.575475e-09\n",
      "numerical: -1.193609 analytic: -1.193609, relative error: 1.790499e-08\n",
      "numerical: -2.975355 analytic: -2.975355, relative error: 8.960924e-09\n",
      "numerical: 5.433852 analytic: 5.433852, relative error: 1.450246e-08\n",
      "numerical: 0.437758 analytic: 0.437758, relative error: 1.434500e-07\n",
      "numerical: 0.184635 analytic: 0.184635, relative error: 2.728699e-07\n",
      "numerical: 0.369882 analytic: 0.369882, relative error: 1.120607e-07\n",
      "numerical: 0.213717 analytic: 0.213717, relative error: 1.696888e-07\n",
      "numerical: -1.542052 analytic: -1.542052, relative error: 7.936942e-09\n",
      "numerical: 0.543499 analytic: 0.543499, relative error: 9.508221e-09\n",
      "numerical: 1.499751 analytic: 1.499751, relative error: 3.308869e-08\n",
      "numerical: 0.088860 analytic: 0.088860, relative error: 6.886566e-08\n",
      "numerical: -0.143603 analytic: -0.143603, relative error: 6.779620e-08\n",
      "numerical: 3.801042 analytic: 3.801042, relative error: 1.915107e-09\n"
     ]
    }
   ],
   "source": [
    "# Complete the implementation of softmax_loss_naive and implement a (naive)\n",
    "# version of the gradient that uses nested loops.\n",
    "loss, grad = softmax_loss_naive(W, X_dev, y_dev, 0.0)\n",
    "\n",
    "# As we did for the SVM, use numeric gradient checking as a debugging tool.\n",
    "# The numeric gradient should be close to the analytic gradient.\n",
    "from cs231n.gradient_check import grad_check_sparse\n",
    "f = lambda w: softmax_loss_naive(w, X_dev, y_dev, 0.0)[0]\n",
    "grad_numerical = grad_check_sparse(f, W, grad, 10)\n",
    "\n",
    "# similar to SVM case, do another gradient check with regularization\n",
    "loss, grad = softmax_loss_naive(W, X_dev, y_dev, 1e2)\n",
    "f = lambda w: softmax_loss_naive(w, X_dev, y_dev, 1e2)[0]\n",
    "grad_numerical = grad_check_sparse(f, W, grad, 10)"
   ]
  },
  {
   "cell_type": "code",
   "execution_count": 5,
   "metadata": {
    "collapsed": false,
    "scrolled": false
   },
   "outputs": [
    {
     "name": "stdout",
     "output_type": "stream",
     "text": [
      "naive loss: 2.335264e+00 computed in 0.103000s\n",
      "vectorized loss: 2.335264e+00 computed in 0.023000s\n",
      "Loss difference: 0.000000\n",
      "Gradient difference: 0.000000\n"
     ]
    }
   ],
   "source": [
    "# Now that we have a naive implementation of the softmax loss function and its gradient,\n",
    "# implement a vectorized version in softmax_loss_vectorized.\n",
    "# The two versions should compute the same results, but the vectorized version should be\n",
    "# much faster.\n",
    "tic = time.time()\n",
    "loss_naive, grad_naive = softmax_loss_naive(W, X_dev, y_dev, 0.00001)\n",
    "toc = time.time()\n",
    "print 'naive loss: %e computed in %fs' % (loss_naive, toc - tic)\n",
    "\n",
    "from cs231n.classifiers.softmax import softmax_loss_vectorized\n",
    "tic = time.time()\n",
    "loss_vectorized, grad_vectorized = softmax_loss_vectorized(W, X_dev, y_dev, 0.00001)\n",
    "toc = time.time()\n",
    "print 'vectorized loss: %e computed in %fs' % (loss_vectorized, toc - tic)\n",
    "\n",
    "# As we did for the SVM, we use the Frobenius norm to compare the two versions\n",
    "# of the gradient.\n",
    "grad_difference = np.linalg.norm(grad_naive - grad_vectorized, ord='fro')\n",
    "print 'Loss difference: %f' % np.abs(loss_naive - loss_vectorized)\n",
    "print 'Gradient difference: %f' % grad_difference"
   ]
  },
  {
   "cell_type": "code",
   "execution_count": 11,
   "metadata": {
    "collapsed": false
   },
   "outputs": [
    {
     "name": "stdout",
     "output_type": "stream",
     "text": [
      "iteration 0 / 3000: loss 775.912536\n",
      "iteration 100 / 3000: loss 284.923523\n",
      "iteration 200 / 3000: loss 105.487916\n",
      "iteration 300 / 3000: loss 39.948182\n",
      "iteration 400 / 3000: loss 15.953604\n",
      "iteration 500 / 3000: loss 7.109769\n",
      "iteration 600 / 3000: loss 3.997385\n",
      "iteration 700 / 3000: loss 2.782782\n",
      "iteration 800 / 3000: loss 2.299239\n",
      "iteration 900 / 3000: loss 2.246841\n",
      "iteration 1000 / 3000: loss 2.091921\n",
      "iteration 1100 / 3000: loss 2.087674\n",
      "iteration 1200 / 3000: loss 2.113640\n",
      "iteration 1300 / 3000: loss 2.097085\n",
      "iteration 1400 / 3000: loss 2.077867\n",
      "iteration 1500 / 3000: loss 2.074310\n",
      "iteration 1600 / 3000: loss 2.150533\n",
      "iteration 1700 / 3000: loss 2.159977\n",
      "iteration 1800 / 3000: loss 2.074572\n",
      "iteration 1900 / 3000: loss 2.094498\n",
      "iteration 2000 / 3000: loss 2.090347\n",
      "iteration 2100 / 3000: loss 2.068625\n",
      "iteration 2200 / 3000: loss 2.069674\n",
      "iteration 2300 / 3000: loss 2.117118\n",
      "iteration 2400 / 3000: loss 2.075263\n",
      "iteration 2500 / 3000: loss 2.078886\n",
      "iteration 2600 / 3000: loss 2.038455\n",
      "iteration 2700 / 3000: loss 2.011639\n",
      "iteration 2800 / 3000: loss 2.123675\n",
      "iteration 2900 / 3000: loss 2.023887\n",
      "iteration 0 / 3000: loss 1538086.426617\n",
      "iteration 100 / 3000: loss nan\n",
      "iteration 200 / 3000: loss nan\n",
      "iteration 300 / 3000: loss nan\n",
      "iteration 400 / 3000: loss nan\n",
      "iteration 500 / 3000: loss nan\n",
      "iteration 600 / 3000: loss nan\n",
      "iteration 700 / 3000: loss nan\n",
      "iteration 800 / 3000: loss nan\n",
      "iteration 900 / 3000: loss nan\n",
      "iteration 1000 / 3000: loss nan\n",
      "iteration 1100 / 3000: loss nan\n",
      "iteration 1200 / 3000: loss nan\n",
      "iteration 1300 / 3000: loss nan\n",
      "iteration 1400 / 3000: loss nan\n",
      "iteration 1500 / 3000: loss nan\n",
      "iteration 1600 / 3000: loss nan\n",
      "iteration 1700 / 3000: loss nan\n",
      "iteration 1800 / 3000: loss nan\n",
      "iteration 1900 / 3000: loss nan\n",
      "iteration 2000 / 3000: loss nan\n",
      "iteration 2100 / 3000: loss nan\n",
      "iteration 2200 / 3000: loss nan\n",
      "iteration 2300 / 3000: loss nan\n",
      "iteration 2400 / 3000: loss nan\n",
      "iteration 2500 / 3000: loss nan\n",
      "iteration 2600 / 3000: loss nan\n",
      "iteration 2700 / 3000: loss nan\n",
      "iteration 2800 / 3000: loss nan\n",
      "iteration 2900 / 3000: loss nan\n",
      "iteration 0 / 3000: loss 769.597515\n",
      "iteration 100 / 3000: loss 6.858330\n",
      "iteration 200 / 3000: loss 2.142036\n",
      "iteration 300 / 3000: loss 2.050472\n",
      "iteration 400 / 3000: loss 2.117560\n",
      "iteration 500 / 3000: loss 2.023585\n",
      "iteration 600 / 3000: loss 2.075056\n",
      "iteration 700 / 3000: loss 2.084623\n",
      "iteration 800 / 3000: loss 2.141330\n",
      "iteration 900 / 3000: loss 2.047537\n",
      "iteration 1000 / 3000: loss 2.096797\n",
      "iteration 1100 / 3000: loss 2.024284\n",
      "iteration 1200 / 3000: loss 2.086191\n",
      "iteration 1300 / 3000: loss 2.055358\n",
      "iteration 1400 / 3000: loss 2.128351\n",
      "iteration 1500 / 3000: loss 2.050582\n",
      "iteration 1600 / 3000: loss 2.030980\n",
      "iteration 1700 / 3000: loss 2.061240\n",
      "iteration 1800 / 3000: loss 2.048736\n",
      "iteration 1900 / 3000: loss 2.111894\n",
      "iteration 2000 / 3000: loss 2.134158\n",
      "iteration 2100 / 3000: loss 2.115442\n",
      "iteration 2200 / 3000: loss 2.052859\n",
      "iteration 2300 / 3000: loss 2.184367\n",
      "iteration 2400 / 3000: loss 2.155620\n",
      "iteration 2500 / 3000: loss 2.113607\n",
      "iteration 2600 / 3000: loss 2.066930\n",
      "iteration 2700 / 3000: loss 2.105598\n",
      "iteration 2800 / 3000: loss 2.124573\n",
      "iteration 2900 / 3000: loss 2.138283\n",
      "iteration 0 / 3000: loss 1547064.092485\n",
      "iteration 100 / 3000: loss nan\n",
      "iteration 200 / 3000: loss nan\n",
      "iteration 300 / 3000: loss nan\n",
      "iteration 400 / 3000: loss nan\n",
      "iteration 500 / 3000: loss nan\n",
      "iteration 600 / 3000: loss nan\n",
      "iteration 700 / 3000: loss nan\n",
      "iteration 800 / 3000: loss nan\n",
      "iteration 900 / 3000: loss nan\n",
      "iteration 1000 / 3000: loss nan\n",
      "iteration 1100 / 3000: loss nan\n",
      "iteration 1200 / 3000: loss nan\n",
      "iteration 1300 / 3000: loss nan\n",
      "iteration 1400 / 3000: loss nan\n",
      "iteration 1500 / 3000: loss nan\n",
      "iteration 1600 / 3000: loss nan\n",
      "iteration 1700 / 3000: loss nan\n",
      "iteration 1800 / 3000: loss nan\n",
      "iteration 1900 / 3000: loss nan\n",
      "iteration 2000 / 3000: loss nan\n",
      "iteration 2100 / 3000: loss nan\n",
      "iteration 2200 / 3000: loss nan\n",
      "iteration 2300 / 3000: loss nan\n",
      "iteration 2400 / 3000: loss nan\n",
      "iteration 2500 / 3000: loss nan\n",
      "iteration 2600 / 3000: loss nan\n",
      "iteration 2700 / 3000: loss nan\n",
      "iteration 2800 / 3000: loss nan\n",
      "iteration 2900 / 3000: loss nan\n",
      "lr 1.000000e-07 reg 5.000000e+04 train accuracy: 0.332490 val accuracy: 0.342000\n",
      "lr 1.000000e-07 reg 1.000000e+08 train accuracy: 0.100265 val accuracy: 0.087000\n",
      "lr 5.000000e-07 reg 5.000000e+04 train accuracy: 0.319347 val accuracy: 0.338000\n",
      "lr 5.000000e-07 reg 1.000000e+08 train accuracy: 0.100265 val accuracy: 0.087000\n",
      "best validation accuracy achieved during cross-validation: 0.342000\n"
     ]
    }
   ],
   "source": [
    "# Use the validation set to tune hyperparameters (regularization strength and\n",
    "# learning rate). You should experiment with different ranges for the learning\n",
    "# rates and regularization strengths; if you are careful you should be able to\n",
    "# get a classification accuracy of over 0.35 on the validation set.\n",
    "from cs231n.classifiers import Softmax\n",
    "results = {}\n",
    "best_val = -1\n",
    "best_softmax = None\n",
    "learning_rates = [1e-7, 5e-7]\n",
    "regularization_strengths = [5e4, 1e8]\n",
    "\n",
    "################################################################################\n",
    "# TODO:                                                                        #\n",
    "# Use the validation set to set the learning rate and regularization strength. #\n",
    "# This should be identical to the validation that you did for the SVM; save    #\n",
    "# the best trained softmax classifer in best_softmax.                          #\n",
    "################################################################################\n",
    "from cs231n.classifiers import Softmax\n",
    "for lr in learning_rates:\n",
    "    for reg in regularization_strengths:\n",
    "        softmax = Softmax()\n",
    "        softmax.train(X_train, y_train, learning_rate=lr, reg=reg, num_iters=300, verbose=True)\n",
    "        y_train_pred = softmax.predict(X_train)\n",
    "        y_val_pred = softmax.predict(X_val)\n",
    "        \n",
    "        if best_val < np.mean(y_val == y_val_pred):\n",
    "            best_val = np.mean(y_val == y_val_pred)\n",
    "            best_softmax = softmax\n",
    "        results[lr, reg] = [np.mean(y_train == y_train_pred), np.mean(y_val == y_val_pred)]\n",
    "pass\n",
    "################################################################################\n",
    "#                              END OF YOUR CODE                                #\n",
    "################################################################################\n",
    "    \n",
    "# Print out results.\n",
    "for lr, reg in sorted(results):\n",
    "    train_accuracy, val_accuracy = results[(lr, reg)]\n",
    "    print 'lr %e reg %e train accuracy: %f val accuracy: %f' % (\n",
    "                lr, reg, train_accuracy, val_accuracy)\n",
    "    \n",
    "print 'best validation accuracy achieved during cross-validation: %f' % best_val"
   ]
  },
  {
   "cell_type": "code",
   "execution_count": 12,
   "metadata": {
    "collapsed": false
   },
   "outputs": [
    {
     "name": "stdout",
     "output_type": "stream",
     "text": [
      "softmax on raw pixels final test set accuracy: 0.348000\n"
     ]
    }
   ],
   "source": [
    "# evaluate on test set\n",
    "# Evaluate the best softmax on test set\n",
    "y_test_pred = best_softmax.predict(X_test)\n",
    "test_accuracy = np.mean(y_test == y_test_pred)\n",
    "print 'softmax on raw pixels final test set accuracy: %f' % (test_accuracy, )"
   ]
  },
  {
   "cell_type": "code",
   "execution_count": 13,
   "metadata": {
    "collapsed": false
   },
   "outputs": [
    {
     "data": {
      "image/png": "[encoded data removed]",
      "text/plain": [
       "<matplotlib.figure.Figure at 0x1156b780>"
      ]
     },
     "metadata": {},
     "output_type": "display_data"
    }
   ],
   "source": [
    "# Visualize the learned weights for each class\n",
    "w = best_softmax.W[:-1,:] # strip out the bias\n",
    "w = w.reshape(32, 32, 3, 10)\n",
    "\n",
    "w_min, w_max = np.min(w), np.max(w)\n",
    "\n",
    "classes = ['plane', 'car', 'bird', 'cat', 'deer', 'dog', 'frog', 'horse', 'ship', 'truck']\n",
    "for i in xrange(10):\n",
    "  plt.subplot(2, 5, i + 1)\n",
    "  \n",
    "  # Rescale the weights to be between 0 and 255\n",
    "  wimg = 255.0 * (w[:, :, :, i].squeeze() - w_min) / (w_max - w_min)\n",
    "  plt.imshow(wimg.astype('uint8'))\n",
    "  plt.axis('off')\n",
    "  plt.title(classes[i])"
   ]
  }
 ],
 "metadata": {
  "kernelspec": {
   "display_name": "Python 2",
   "language": "python",
   "name": "python2"
  },
  "language_info": {
   "codemirror_mode": {
    "name": "ipython",
    "version": 2
   },
   "file_extension": ".py",
   "mimetype": "text/x-python",
   "name": "python",
   "nbconvert_exporter": "python",
   "pygments_lexer": "ipython2",
   "version": "2.7.11"
  }
 },
 "nbformat": 4,
 "nbformat_minor": 0
}
